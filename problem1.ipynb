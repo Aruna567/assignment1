{
 "cells": [
  {
   "cell_type": "code",
   "execution_count": 1,
   "id": "e713bdce",
   "metadata": {},
   "outputs": [
    {
     "name": "stdout",
     "output_type": "stream",
     "text": [
      "type length of perpendicular and press return3\n"
     ]
    }
   ],
   "source": [
    "num1=int(input(\"type length of perpendicular and press return\"))"
   ]
  },
  {
   "cell_type": "code",
   "execution_count": 2,
   "id": "0af5a166",
   "metadata": {},
   "outputs": [
    {
     "name": "stdout",
     "output_type": "stream",
     "text": [
      "type length of base and press return4\n"
     ]
    }
   ],
   "source": [
    "num2=int(input(\"type length of base and press return\"))"
   ]
  },
  {
   "cell_type": "code",
   "execution_count": 3,
   "id": "560b161e",
   "metadata": {},
   "outputs": [
    {
     "name": "stdout",
     "output_type": "stream",
     "text": [
      "type length of hypotneuse and press return7\n"
     ]
    }
   ],
   "source": [
    "num3=int(input(\"type length of hypotneuse and press return\"))"
   ]
  },
  {
   "cell_type": "code",
   "execution_count": 4,
   "id": "a616e332",
   "metadata": {},
   "outputs": [],
   "source": [
    "cal=(num1)*2+(num2)*2"
   ]
  },
  {
   "cell_type": "code",
   "execution_count": 5,
   "id": "e95c89f8",
   "metadata": {},
   "outputs": [
    {
     "name": "stdout",
     "output_type": "stream",
     "text": [
      "ans 14\n"
     ]
    }
   ],
   "source": [
    "print(\"ans\",cal)"
   ]
  },
  {
   "cell_type": "code",
   "execution_count": 6,
   "id": "d571512e",
   "metadata": {},
   "outputs": [],
   "source": [
    "c=num3*2"
   ]
  },
  {
   "cell_type": "code",
   "execution_count": 7,
   "id": "9bfc437c",
   "metadata": {},
   "outputs": [
    {
     "name": "stdout",
     "output_type": "stream",
     "text": [
      "ans1 14\n"
     ]
    }
   ],
   "source": [
    "print(\"ans1\",c)"
   ]
  },
  {
   "cell_type": "code",
   "execution_count": 8,
   "id": "a1f8433a",
   "metadata": {},
   "outputs": [
    {
     "name": "stdout",
     "output_type": "stream",
     "text": [
      "it is pythogram tripple\n"
     ]
    }
   ],
   "source": [
    "if cal ==c:\n",
    "    print(\"it is pythogram tripple\")\n",
    "else:\n",
    "    print(\"it is not pythogram tripple\")"
   ]
  },
  {
   "cell_type": "code",
   "execution_count": null,
   "id": "4f3ecdf8",
   "metadata": {},
   "outputs": [],
   "source": []
  }
 ],
 "metadata": {
  "kernelspec": {
   "display_name": "Python 3 (ipykernel)",
   "language": "python",
   "name": "python3"
  },
  "language_info": {
   "codemirror_mode": {
    "name": "ipython",
    "version": 3
   },
   "file_extension": ".py",
   "mimetype": "text/x-python",
   "name": "python",
   "nbconvert_exporter": "python",
   "pygments_lexer": "ipython3",
   "version": "3.10.9"
  }
 },
 "nbformat": 4,
 "nbformat_minor": 5
}
